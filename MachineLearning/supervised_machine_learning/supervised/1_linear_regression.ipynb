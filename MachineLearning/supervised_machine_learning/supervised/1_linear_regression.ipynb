{
 "cells": [
  {
   "cell_type": "code",
   "execution_count": 1,
   "metadata": {},
   "outputs": [],
   "source": [
    "# Linear regression\n",
    "#import the libraries\n",
    "import numpy as np\n"
   ]
  },
  {
   "cell_type": "code",
   "execution_count": 8,
   "metadata": {},
   "outputs": [
    {
     "data": {
      "text/plain": [
       "array([[37.8, 39.3, 45.9, 41.3],\n",
       "       [22.1, 10.4, 18.3, 18.5]])"
      ]
     },
     "execution_count": 8,
     "metadata": {},
     "output_type": "execute_result"
    }
   ],
   "source": [
    "#creat the dataset\n",
    "#giging the input as one feature value and last one is output\n",
    "data=np.array([[37.8,39.3,45.9,41.3],[22.1,10.4,18.3,18.5]])\n",
    "data"
   ]
  },
  {
   "cell_type": "code",
   "execution_count": 10,
   "metadata": {},
   "outputs": [
    {
     "data": {
      "text/plain": [
       "array([[37.8, 22.1],\n",
       "       [39.3, 10.4],\n",
       "       [45.9, 18.3],\n",
       "       [41.3, 18.5]])"
      ]
     },
     "execution_count": 10,
     "metadata": {},
     "output_type": "execute_result"
    }
   ],
   "source": [
    "#transpose it \n",
    "data.T\n"
   ]
  },
  {
   "cell_type": "code",
   "execution_count": 34,
   "metadata": {},
   "outputs": [],
   "source": [
    "#split is as fetures and output\n",
    "X=data[:][0]\n",
    "y=data[:][1]\n",
    "weight=0.2\n",
    "bias=0.0"
   ]
  },
  {
   "cell_type": "code",
   "execution_count": 36,
   "metadata": {},
   "outputs": [
    {
     "data": {
      "text/plain": [
       "array([7.56, 7.86, 9.18, 8.26])"
      ]
     },
     "execution_count": 36,
     "metadata": {},
     "output_type": "execute_result"
    }
   ],
   "source": [
    "#find the output\n",
    "def predict(X,weight,bias):\n",
    "    return np.dot(X,weight)+bias\n"
   ]
  },
  {
   "cell_type": "code",
   "execution_count": 47,
   "metadata": {},
   "outputs": [
    {
     "data": {
      "text/plain": [
       "101.47380000000003"
      ]
     },
     "execution_count": 47,
     "metadata": {},
     "output_type": "execute_result"
    }
   ],
   "source": [
    "#step-2---Cost function\n",
    "def cost_function(X,weight,bias,y):\n",
    "    N=len(X)\n",
    "    y_pred=predict(X,weight,bias)\n",
    "    diff=(y-y_pred)**2\n",
    "    return sum(diff)/N  \n",
    "#cost_function(X,weight,bias,y)"
   ]
  },
  {
   "cell_type": "code",
   "execution_count": 42,
   "metadata": {},
   "outputs": [
    {
     "data": {
      "text/plain": [
       "211.41159999999996"
      ]
     },
     "execution_count": 42,
     "metadata": {},
     "output_type": "execute_result"
    }
   ],
   "source": [
    "#step-3----update weights to reduce error using the gradient decent\n",
    "def update_weight(X,weight,bias,y):\n",
    "    w_deri=0\n",
    "    bias_deri=0\n",
    "    "
   ]
  },
  {
   "cell_type": "code",
   "execution_count": null,
   "metadata": {},
   "outputs": [],
   "source": []
  }
 ],
 "metadata": {
  "kernelspec": {
   "display_name": "Python 3.6 (tensorflow)",
   "language": "python",
   "name": "tensorflow"
  },
  "language_info": {
   "codemirror_mode": {
    "name": "ipython",
    "version": 3
   },
   "file_extension": ".py",
   "mimetype": "text/x-python",
   "name": "python",
   "nbconvert_exporter": "python",
   "pygments_lexer": "ipython3",
   "version": "3.7.6"
  }
 },
 "nbformat": 4,
 "nbformat_minor": 4
}
