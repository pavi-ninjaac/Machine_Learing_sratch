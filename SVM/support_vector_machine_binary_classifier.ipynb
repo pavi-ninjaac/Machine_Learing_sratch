{
 "cells": [
  {
   "cell_type": "code",
   "execution_count": 4,
   "source": [
    "import numpy as np\n",
    "import pandas as pd"
   ],
   "outputs": [],
   "metadata": {}
  },
  {
   "cell_type": "code",
   "execution_count": 5,
   "source": [
    "\"\"\"\n",
    "    1. I need SVM class\n",
    "    2. I need __init__ function with learning rate and #iteration parameter\n",
    "    3. I need train function with X,y parameter\n",
    "    4. I need predict function\n",
    "\"\"\""
   ],
   "outputs": [
    {
     "output_type": "execute_result",
     "data": {
      "text/plain": [
       "'\\n    1. I need SVM class\\n    2. I need __init__ function with learning rate and #iteration parameter\\n    3. I need train function with X,y parameter\\n    4. I need predict function\\n'"
      ]
     },
     "metadata": {},
     "execution_count": 5
    }
   ],
   "metadata": {}
  },
  {
   "cell_type": "code",
   "execution_count": 6,
   "source": [
    "class SVM:\n",
    "    \"\"\"\n",
    "    This is a binary classification algorithm with linear kernals.\n",
    "    \"\"\"\n",
    "    def __init__(self, learning_rate, iteration):\n",
    "        \"\"\"\n",
    "        :param learning_rate: A samll value needed for gradient decent, default value id 0.1.\n",
    "        :param iteration: Number of training iteration, default value is 10,000.\n",
    "        \"\"\"\n",
    "        self.lr = learning_rate\n",
    "        self.it = iteration\n",
    "\n",
    "    def cost_function(self, y, y_pred):\n",
    "        \"\"\"\n",
    "        :param y: Original target value.\n",
    "        :param y_pred: predicted target value.\n",
    "        \"\"\"\n",
    "        return \n",
    "\n",
    "    def train(self, X, y):\n",
    "        \"\"\"\n",
    "        :param X: training data feature values ---> N Dimentional vector.\n",
    "        :param y: training data target value -----> 1 Dimentional array.\n",
    "        \"\"\"\n",
    "        # Target value should be in the shape of (n, 1) not (n, ).\n",
    "        # So, this will check that and change the shape to (n, 1), if not.\n",
    "        try:\n",
    "            y.shape[1]\n",
    "        except IndexError as e:\n",
    "            # we need to change it to the 1 D array, not a list.\n",
    "            print(\"ERROR: Target array should be a one dimentional array not a list\"\n",
    "                  \"----> here the target value not in the shape of (n,1). \\nShape ({shape_y_0},1) and {shape_y} not match\"\n",
    "                  .format(shape_y_0 = y.shape[0] , shape_y = y.shape))\n",
    "            return \n",
    "        # m is number of training samples.\n",
    "        self.m  = X.shape[0]\n",
    "        # n is number of features/columns/dependant variables.\n",
    "        self.n = X.shape[1]\n",
    "\n",
    "        # Set the initial weight.\n",
    "        self.w = np.zeros((self.n , 1))\n",
    "        # bias.\n",
    "        self.b = 0\n",
    "\n",
    "        for it in range(1, self.it+1):\n",
    "            # 1. Find the predicted value.\n",
    "            # 2. Find the Cost function.\n",
    "            # 3. Find the derivation of weights and bias.\n",
    "            # 4. Apply Gradient Decent.\n",
    "\n",
    "            y_pred = self.sigmoid(np.dot(X, self.w) + self.b)\n",
    "\n",
    "            cost = self.cost_function(y, y_pred)\n",
    "\n",
    "            # Derivation of w and b.\n",
    "            dw = \"\"\n",
    "            db = \"\"\n",
    "\n",
    "            # Chnage the parameter value/ apply Gradient decent.\n",
    "            self.w = self.w - (self.lr * dw)\n",
    "            self.b = self.b - (self.lr * db)\n",
    "\n",
    "            if it % 1000 == 0:\n",
    "                print(\"The Cost function for the iteration {}----->{} :)\".format(it, cost))\n",
    "    \n",
    "    def predict(self, test_X):\n",
    "        y_pred = \"\"\n",
    "        return y_pred\n",
    "\n",
    "    \n"
   ],
   "outputs": [],
   "metadata": {}
  },
  {
   "cell_type": "code",
   "execution_count": null,
   "source": [],
   "outputs": [],
   "metadata": {}
  }
 ],
 "metadata": {
  "orig_nbformat": 4,
  "language_info": {
   "name": "python",
   "version": "3.8.10",
   "mimetype": "text/x-python",
   "codemirror_mode": {
    "name": "ipython",
    "version": 3
   },
   "pygments_lexer": "ipython3",
   "nbconvert_exporter": "python",
   "file_extension": ".py"
  },
  "kernelspec": {
   "name": "python3",
   "display_name": "Python 3.8.10 64-bit"
  },
  "interpreter": {
   "hash": "31f2aee4e71d21fbe5cf8b01ff0e069b9275f58929596ceb00d14d90e3e16cd6"
  }
 },
 "nbformat": 4,
 "nbformat_minor": 2
}