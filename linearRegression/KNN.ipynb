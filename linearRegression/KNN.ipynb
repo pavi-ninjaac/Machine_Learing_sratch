{
 "cells": [
  {
   "cell_type": "code",
   "execution_count": 11,
   "source": [
    "import numpy as np\n",
    "import pandas as pd\n",
    "from collections import Counter\n",
    "\n",
    "from sklearn.datasets import make_classification\n",
    "\n",
    "from sklearn.metrics import accuracy_score"
   ],
   "outputs": [],
   "metadata": {}
  },
  {
   "cell_type": "markdown",
   "source": [
    "# Data Creation"
   ],
   "metadata": {}
  },
  {
   "cell_type": "code",
   "execution_count": 50,
   "source": [
    "# Define the traning data.\n",
    "X, y = make_classification(n_samples=1000, n_classes=2)\n",
    "\n",
    "# Chnage the shape of the target to 1 dimentional array.\n",
    "y = y[:, np.newaxis]\n",
    "\n",
    "print(\"=\"*100)\n",
    "print(\"Number of training data samples-----> {}\".format(X.shape[0]))\n",
    "print(\"Number of training features --------> {}\".format(X.shape[1]))\n",
    "print(\"Shape of the target value ----------> {}\".format(y.shape))"
   ],
   "outputs": [
    {
     "output_type": "stream",
     "name": "stdout",
     "text": [
      "====================================================================================================\n",
      "Number of training data samples-----> 1000\n",
      "Number of training features --------> 20\n",
      "Shape of the target value ----------> (1000, 1)\n"
     ]
    }
   ],
   "metadata": {}
  },
  {
   "cell_type": "code",
   "execution_count": 51,
   "source": [
    "# display the data.\n",
    "data = pd.DataFrame(X)\n",
    "data.head()\n"
   ],
   "outputs": [
    {
     "output_type": "execute_result",
     "data": {
      "text/plain": [
       "         0         1         2         3         4         5         6   \\\n",
       "0 -0.255884 -0.952313  0.605330 -1.786662 -0.017455 -0.009640 -0.102487   \n",
       "1 -0.172213 -0.736741 -1.604251 -0.093186  0.883577 -0.694262  0.938463   \n",
       "2 -0.105165 -0.548203 -1.040352 -1.061356 -0.769732 -0.847023 -0.966333   \n",
       "3  0.269233  0.476647  0.464397  2.362807  0.593248 -3.076019  0.420973   \n",
       "4  0.453294  1.363347  0.514851 -2.108918 -1.302391  1.094659  0.413497   \n",
       "\n",
       "         7         8         9         10        11        12        13  \\\n",
       "0 -0.019561 -0.450770  0.812081  0.163994 -0.610864 -1.466559 -0.319521   \n",
       "1  1.439004 -0.654626  0.608227  1.261100  0.631545 -1.181008  1.445022   \n",
       "2  0.693139  0.862787 -1.234908  0.305726 -0.833034 -2.103516  1.229620   \n",
       "3 -0.029371 -0.325746 -1.231784 -0.064874 -0.401916  1.542220 -0.634286   \n",
       "4 -0.851119  2.316619  2.342833  2.007783  0.095451  0.592892  0.751268   \n",
       "\n",
       "         14        15        16        17        18        19  \n",
       "0  0.296490  0.717293  0.418104  0.272176  1.010787  0.395216  \n",
       "1 -0.546277  0.271678  0.602017  0.390466  0.248185  0.038316  \n",
       "2  0.282516  0.084600  0.696550  0.451091  1.529067  0.364924  \n",
       "3 -0.219892 -0.230808  1.317915  0.850070 -0.025690 -1.720861  \n",
       "4 -0.664948  0.219356  0.342309  0.217992  0.376398  0.639571  "
      ],
      "text/html": [
       "<div>\n",
       "<style scoped>\n",
       "    .dataframe tbody tr th:only-of-type {\n",
       "        vertical-align: middle;\n",
       "    }\n",
       "\n",
       "    .dataframe tbody tr th {\n",
       "        vertical-align: top;\n",
       "    }\n",
       "\n",
       "    .dataframe thead th {\n",
       "        text-align: right;\n",
       "    }\n",
       "</style>\n",
       "<table border=\"1\" class=\"dataframe\">\n",
       "  <thead>\n",
       "    <tr style=\"text-align: right;\">\n",
       "      <th></th>\n",
       "      <th>0</th>\n",
       "      <th>1</th>\n",
       "      <th>2</th>\n",
       "      <th>3</th>\n",
       "      <th>4</th>\n",
       "      <th>5</th>\n",
       "      <th>6</th>\n",
       "      <th>7</th>\n",
       "      <th>8</th>\n",
       "      <th>9</th>\n",
       "      <th>10</th>\n",
       "      <th>11</th>\n",
       "      <th>12</th>\n",
       "      <th>13</th>\n",
       "      <th>14</th>\n",
       "      <th>15</th>\n",
       "      <th>16</th>\n",
       "      <th>17</th>\n",
       "      <th>18</th>\n",
       "      <th>19</th>\n",
       "    </tr>\n",
       "  </thead>\n",
       "  <tbody>\n",
       "    <tr>\n",
       "      <th>0</th>\n",
       "      <td>-0.255884</td>\n",
       "      <td>-0.952313</td>\n",
       "      <td>0.605330</td>\n",
       "      <td>-1.786662</td>\n",
       "      <td>-0.017455</td>\n",
       "      <td>-0.009640</td>\n",
       "      <td>-0.102487</td>\n",
       "      <td>-0.019561</td>\n",
       "      <td>-0.450770</td>\n",
       "      <td>0.812081</td>\n",
       "      <td>0.163994</td>\n",
       "      <td>-0.610864</td>\n",
       "      <td>-1.466559</td>\n",
       "      <td>-0.319521</td>\n",
       "      <td>0.296490</td>\n",
       "      <td>0.717293</td>\n",
       "      <td>0.418104</td>\n",
       "      <td>0.272176</td>\n",
       "      <td>1.010787</td>\n",
       "      <td>0.395216</td>\n",
       "    </tr>\n",
       "    <tr>\n",
       "      <th>1</th>\n",
       "      <td>-0.172213</td>\n",
       "      <td>-0.736741</td>\n",
       "      <td>-1.604251</td>\n",
       "      <td>-0.093186</td>\n",
       "      <td>0.883577</td>\n",
       "      <td>-0.694262</td>\n",
       "      <td>0.938463</td>\n",
       "      <td>1.439004</td>\n",
       "      <td>-0.654626</td>\n",
       "      <td>0.608227</td>\n",
       "      <td>1.261100</td>\n",
       "      <td>0.631545</td>\n",
       "      <td>-1.181008</td>\n",
       "      <td>1.445022</td>\n",
       "      <td>-0.546277</td>\n",
       "      <td>0.271678</td>\n",
       "      <td>0.602017</td>\n",
       "      <td>0.390466</td>\n",
       "      <td>0.248185</td>\n",
       "      <td>0.038316</td>\n",
       "    </tr>\n",
       "    <tr>\n",
       "      <th>2</th>\n",
       "      <td>-0.105165</td>\n",
       "      <td>-0.548203</td>\n",
       "      <td>-1.040352</td>\n",
       "      <td>-1.061356</td>\n",
       "      <td>-0.769732</td>\n",
       "      <td>-0.847023</td>\n",
       "      <td>-0.966333</td>\n",
       "      <td>0.693139</td>\n",
       "      <td>0.862787</td>\n",
       "      <td>-1.234908</td>\n",
       "      <td>0.305726</td>\n",
       "      <td>-0.833034</td>\n",
       "      <td>-2.103516</td>\n",
       "      <td>1.229620</td>\n",
       "      <td>0.282516</td>\n",
       "      <td>0.084600</td>\n",
       "      <td>0.696550</td>\n",
       "      <td>0.451091</td>\n",
       "      <td>1.529067</td>\n",
       "      <td>0.364924</td>\n",
       "    </tr>\n",
       "    <tr>\n",
       "      <th>3</th>\n",
       "      <td>0.269233</td>\n",
       "      <td>0.476647</td>\n",
       "      <td>0.464397</td>\n",
       "      <td>2.362807</td>\n",
       "      <td>0.593248</td>\n",
       "      <td>-3.076019</td>\n",
       "      <td>0.420973</td>\n",
       "      <td>-0.029371</td>\n",
       "      <td>-0.325746</td>\n",
       "      <td>-1.231784</td>\n",
       "      <td>-0.064874</td>\n",
       "      <td>-0.401916</td>\n",
       "      <td>1.542220</td>\n",
       "      <td>-0.634286</td>\n",
       "      <td>-0.219892</td>\n",
       "      <td>-0.230808</td>\n",
       "      <td>1.317915</td>\n",
       "      <td>0.850070</td>\n",
       "      <td>-0.025690</td>\n",
       "      <td>-1.720861</td>\n",
       "    </tr>\n",
       "    <tr>\n",
       "      <th>4</th>\n",
       "      <td>0.453294</td>\n",
       "      <td>1.363347</td>\n",
       "      <td>0.514851</td>\n",
       "      <td>-2.108918</td>\n",
       "      <td>-1.302391</td>\n",
       "      <td>1.094659</td>\n",
       "      <td>0.413497</td>\n",
       "      <td>-0.851119</td>\n",
       "      <td>2.316619</td>\n",
       "      <td>2.342833</td>\n",
       "      <td>2.007783</td>\n",
       "      <td>0.095451</td>\n",
       "      <td>0.592892</td>\n",
       "      <td>0.751268</td>\n",
       "      <td>-0.664948</td>\n",
       "      <td>0.219356</td>\n",
       "      <td>0.342309</td>\n",
       "      <td>0.217992</td>\n",
       "      <td>0.376398</td>\n",
       "      <td>0.639571</td>\n",
       "    </tr>\n",
       "  </tbody>\n",
       "</table>\n",
       "</div>"
      ]
     },
     "metadata": {},
     "execution_count": 51
    }
   ],
   "metadata": {}
  },
  {
   "cell_type": "code",
   "execution_count": 52,
   "source": [
    "# display the data.\n",
    "data_y = pd.DataFrame(y)\n",
    "data_y.head()"
   ],
   "outputs": [
    {
     "output_type": "execute_result",
     "data": {
      "text/plain": [
       "   0\n",
       "0  0\n",
       "1  0\n",
       "2  0\n",
       "3  1\n",
       "4  1"
      ],
      "text/html": [
       "<div>\n",
       "<style scoped>\n",
       "    .dataframe tbody tr th:only-of-type {\n",
       "        vertical-align: middle;\n",
       "    }\n",
       "\n",
       "    .dataframe tbody tr th {\n",
       "        vertical-align: top;\n",
       "    }\n",
       "\n",
       "    .dataframe thead th {\n",
       "        text-align: right;\n",
       "    }\n",
       "</style>\n",
       "<table border=\"1\" class=\"dataframe\">\n",
       "  <thead>\n",
       "    <tr style=\"text-align: right;\">\n",
       "      <th></th>\n",
       "      <th>0</th>\n",
       "    </tr>\n",
       "  </thead>\n",
       "  <tbody>\n",
       "    <tr>\n",
       "      <th>0</th>\n",
       "      <td>0</td>\n",
       "    </tr>\n",
       "    <tr>\n",
       "      <th>1</th>\n",
       "      <td>0</td>\n",
       "    </tr>\n",
       "    <tr>\n",
       "      <th>2</th>\n",
       "      <td>0</td>\n",
       "    </tr>\n",
       "    <tr>\n",
       "      <th>3</th>\n",
       "      <td>1</td>\n",
       "    </tr>\n",
       "    <tr>\n",
       "      <th>4</th>\n",
       "      <td>1</td>\n",
       "    </tr>\n",
       "  </tbody>\n",
       "</table>\n",
       "</div>"
      ]
     },
     "metadata": {},
     "execution_count": 52
    }
   ],
   "metadata": {}
  },
  {
   "cell_type": "markdown",
   "source": [
    "# K-nearest Neipours (KNN) from scratch"
   ],
   "metadata": {}
  },
  {
   "cell_type": "code",
   "execution_count": 53,
   "source": [
    "def euclidean_distance(x1,x2):\n",
    "    \"\"\"\n",
    "    \"\"\"\n",
    "    distance = 0\n",
    "    for i in range(len(x1)):\n",
    "        distance += np.square(x1[i] - x2[i])\n",
    "    return np.square(distance)"
   ],
   "outputs": [],
   "metadata": {}
  },
  {
   "cell_type": "code",
   "execution_count": 54,
   "source": [
    "class KNN:\n",
    "    \"\"\"\n",
    "    \"\"\"\n",
    "    def __init__(self, n_neibours=5):\n",
    "        \"\"\"\n",
    "        \"\"\"\n",
    "        self.n_neibours = n_neibours\n",
    "    \n",
    "    def most_frequent_class(self, neibours_y):\n",
    "        \"\"\"\n",
    "        \"\"\"\n",
    "        counts = np.bincount(neibours_y)\n",
    "        return counts.argmax()\n",
    "\n",
    "    def train(self, X, y):\n",
    "        \"\"\"\n",
    "        \"\"\"\n",
    "        # there is no learning nedded in KNN. Everything happening at the time of prediction.\n",
    "        self.m , self.n = X.shape\n",
    "        self.train_X = X\n",
    "        self.train_y = y\n",
    "\n",
    "    def predict(self, test_X):\n",
    "        \"\"\"\n",
    "        \"\"\"\n",
    "        # create a empty y_pred array to store the prediction.\n",
    "        y_pred = np.empty((test_X.shape[0], 1))\n",
    "        # iterate over all the test dataset.\n",
    "        for index, test_x in enumerate(test_X):\n",
    "            # Find the euclidean distance between text x sample and all train X values.\n",
    "            distance = [euclidean_distance(test_x, train_x ) for train_x in self.train_X]\n",
    "\n",
    "            # Sort the distance and get the first smallest k-neibours's index.\n",
    "            n_neibours_index = np.argsort(distance)[: self.n_neibours]\n",
    "\n",
    "            # Get the neibours corresponding train_y value.\n",
    "            n_neibours_y = np.array([self.train_y[ind][0] for ind in n_neibours_index ])\n",
    "\n",
    "            # Get the most frequent class in the n_neibours group as a prediction for that test_x sample.\n",
    "            y_pred[index] = self.most_frequent_class(n_neibours_y)\n",
    "\n",
    "        return y_pred\n"
   ],
   "outputs": [],
   "metadata": {}
  },
  {
   "cell_type": "code",
   "execution_count": 57,
   "source": [
    "#define the parameters\n",
    "param = {\n",
    "    \"n_neibours\" : 5\n",
    "}\n",
    "print(\"=\"*100)\n",
    "knn_cla = KNN(**param)\n",
    "\n",
    "# Train the model.\n",
    "knn_cla.train(X, y) \n",
    "\n",
    "# Predict the values.\n",
    "y_pred = knn_cla.predict(X)\n",
    "\n",
    "#calculate accuracy.\n",
    "acc = np.sum(y==y_pred)/X.shape[0]\n",
    "print(\"=\"*100)\n",
    "print(\"Accuracy of the prediction is {}\".format(acc))"
   ],
   "outputs": [
    {
     "output_type": "stream",
     "name": "stdout",
     "text": [
      "====================================================================================================\n",
      "====================================================================================================\n",
      "Accuracy of the prediction is 0.883\n"
     ]
    }
   ],
   "metadata": {}
  },
  {
   "cell_type": "markdown",
   "source": [
    "# KNN using scikit-learn for comparision"
   ],
   "metadata": {}
  },
  {
   "cell_type": "code",
   "execution_count": 59,
   "source": [
    "from sklearn.neighbors import KNeighborsClassifier"
   ],
   "outputs": [],
   "metadata": {}
  },
  {
   "cell_type": "code",
   "execution_count": 60,
   "source": [
    "# data is already defined, going to use the same data for comparision.\n",
    "print(\"=\"*100)\n",
    "print(\"Number of training data samples-----> {}\".format(X.shape[0]))\n",
    "print(\"Number of training features --------> {}\".format(X.shape[1]))"
   ],
   "outputs": [
    {
     "output_type": "stream",
     "name": "stdout",
     "text": [
      "====================================================================================================\n",
      "Number of training data samples-----> 1000\n",
      "Number of training features --------> 20\n"
     ]
    }
   ],
   "metadata": {}
  },
  {
   "cell_type": "code",
   "execution_count": 61,
   "source": [
    "knn_sklearn = KNeighborsClassifier(n_neighbors=5)\n",
    "knn_sklearn.fit(X, y)\n",
    "\n",
    "# predict the value\n",
    "y_pred_sklearn = knn_sklearn.predict(X)\n",
    "acc = accuracy_score(y, y_pred_sklearn)\n",
    "print(\"=\"*100)\n",
    "print(\"Accuracy of the prediction is {}\".format(acc))"
   ],
   "outputs": [
    {
     "output_type": "stream",
     "name": "stdout",
     "text": [
      "====================================================================================================\n",
      "Accuracy of the prediction is 0.883\n"
     ]
    },
    {
     "output_type": "stream",
     "name": "stderr",
     "text": [
      "/home/pavithra/.local/lib/python3.8/site-packages/sklearn/neighbors/_classification.py:198: DataConversionWarning: A column-vector y was passed when a 1d array was expected. Please change the shape of y to (n_samples,), for example using ravel().\n",
      "  return self._fit(X, y)\n"
     ]
    }
   ],
   "metadata": {}
  },
  {
   "cell_type": "markdown",
   "source": [
    "# Conclution"
   ],
   "metadata": {}
  },
  {
   "cell_type": "markdown",
   "source": [
    "- 1. The accuracy of out model is very much the same as scikit-learn KNN. :)\n",
    "- 2. But our model is little bit slow and so expensive since it is calculating distance with all tarin x for each test x sample. :("
   ],
   "metadata": {}
  },
  {
   "cell_type": "markdown",
   "source": [
    "# Supervised Machine Learning models scratch series....\n",
    "you can also check....\n",
    "\n",
    "- 1) Linear Regression         ---> https://www.kaggle.com/ninjaac/linear-regression-from-scratch\n",
    "- 2) Lasso Regression          ---> https://www.kaggle.com/ninjaac/lasso-ridge-regression \n",
    "- 3) Ridge Regression          ---> https://www.kaggle.com/ninjaac/lasso-ridge-regression \n",
    "- 4) ElasticNet Regression     ---> https://www.kaggle.com/ninjaac/elasticnet-regression \n",
    "- 5) Polynomail Regression     ---> https://www.kaggle.com/ninjaac/polynomial-and-polynomialridge-regression \n",
    "- 5) PolynomailRidge Regression---> https://www.kaggle.com/ninjaac/polynomial-and-polynomialridge-regression (Same Notebook you are looking now)\n",
    "- 6) KNN Classifier            ---> (Same Notebook you are looking now)"
   ],
   "metadata": {}
  },
  {
   "cell_type": "markdown",
   "source": [],
   "metadata": {}
  }
 ],
 "metadata": {
  "orig_nbformat": 4,
  "language_info": {
   "name": "python",
   "version": "3.8.10",
   "mimetype": "text/x-python",
   "codemirror_mode": {
    "name": "ipython",
    "version": 3
   },
   "pygments_lexer": "ipython3",
   "nbconvert_exporter": "python",
   "file_extension": ".py"
  },
  "kernelspec": {
   "name": "python3",
   "display_name": "Python 3.8.10 64-bit"
  },
  "interpreter": {
   "hash": "31f2aee4e71d21fbe5cf8b01ff0e069b9275f58929596ceb00d14d90e3e16cd6"
  }
 },
 "nbformat": 4,
 "nbformat_minor": 2
}