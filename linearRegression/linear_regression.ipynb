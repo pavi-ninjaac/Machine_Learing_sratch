{
 "cells": [
  {
   "cell_type": "code",
   "execution_count": 23,
   "source": [
    "import numpy as np\n",
    "import pandas as pd\n",
    "\n",
    "from sklearn.datasets import make_regression\n",
    "\n",
    "from sklearn.metrics import r2_score"
   ],
   "outputs": [],
   "metadata": {}
  },
  {
   "cell_type": "code",
   "execution_count": 41,
   "source": [
    "class LinearRegression:\n",
    "    def __init__(self, learning_rate, iteration):\n",
    "        \"\"\"\n",
    "        :param learning_rate: A samll value needed for gradient decent, default value id 0.1.\n",
    "        :param iteration: Number of training iteration, default value is 10,000.\n",
    "        \"\"\"\n",
    "        self.m = None\n",
    "        self.n = None\n",
    "        self.w = None\n",
    "        self.lr = learning_rate\n",
    "        self.it = iteration\n",
    "\n",
    "    def cost_function(self, y, y_pred):\n",
    "        \"\"\"\n",
    "        :param y: Original target value.\n",
    "        :param y_pred: predicted target value.\n",
    "        \"\"\"\n",
    "        return (1 / (2*self.m)) * np.sum(np.square(y_pred - y))\n",
    "    \n",
    "    def hypothesis(self, weights, X):\n",
    "        \"\"\"\n",
    "        :param weights: parameter value weight.\n",
    "        :param X: Training samples.\n",
    "        \"\"\"\n",
    "        return np.dot(X, weights)\n",
    "\n",
    "    def train(self, X, y):\n",
    "        \"\"\"\n",
    "        :param X: training data feature values ---> N Dimentional vector.\n",
    "        :param y: training data target value -----> 1 Dimentional array.\n",
    "        \"\"\"\n",
    "        # Insert constant ones for bias weights.\n",
    "        X = np.insert(X, 0, 1, axis=1)\n",
    "        # Target value should be in the shape of (n, 1) not (n, ).\n",
    "        # So, this will check that and change the shape to (n, 1), if not.\n",
    "        try:\n",
    "            y.shape[1]\n",
    "        except IndexError as e:\n",
    "            # we need to change it to the 1 D array, not a list.\n",
    "            print(\"ERROR: Target array should be a one dimentional array not a list\"\n",
    "                  \"----> here the target value not in the shape of (n,1). \\nShape ({shape_y_0},1) and {shape_y} not match\"\n",
    "                  .format(shape_y_0 = y.shape[0] , shape_y = y.shape))\n",
    "            return \n",
    "        \n",
    "        # m is the number of training samples.\n",
    "        self.m = X.shape[0]\n",
    "        # n is the number of features.\n",
    "        self.n = X.shape[1]\n",
    "\n",
    "        # Set the initial weight.\n",
    "        self.w = np.zeros((self.n , 1))\n",
    "\n",
    "        for it in range(1, self.it+1):\n",
    "            # 1. Find the predicted value through the hypothesis.\n",
    "            # 2. Find the Cost function value.\n",
    "            # 3. Find the derivation of weights.\n",
    "            # 4. Apply Gradient Decent.\n",
    "            y_pred = self.hypothesis(self.w, X)\n",
    "\n",
    "            cost = self.cost_function(y, y_pred)\n",
    "            # fin the derivative.\n",
    "            dw = (1/self.m) * np.dot(X.T, (y_pred - y))\n",
    "\n",
    "            # change the weight parameter.\n",
    "            self.w = self.w - self.lr * dw\n",
    "\n",
    "            if it % 1000 == 0:\n",
    "                print(\"The Cost function for the iteration {}----->{} :)\".format(it, cost))\n",
    "    def predict(self, test_X):\n",
    "        \"\"\"\n",
    "        :param test_X: feature values to predict.\n",
    "        \"\"\"\n",
    "        # Insert constant ones for bias weights\n",
    "        test_X = np.insert(test_X, 0, 1, axis=1)\n",
    "        y_pred = self.hypothesis(self.w, test_X)\n",
    "        return y_pred\n",
    "    \n"
   ],
   "outputs": [],
   "metadata": {}
  },
  {
   "cell_type": "code",
   "execution_count": 42,
   "source": [
    "# Define the traning data.\n",
    "X, y = make_regression(n_samples=50000, n_features=8)\n",
    "\n",
    "# Chnage the shape of the target to 1 dimentional array.\n",
    "y = y[:, np.newaxis]\n",
    "\n",
    "print(\"=\"*100)\n",
    "print(\"Number of training data samples-----> {}\".format(X.shape[0]))\n",
    "print(\"Number of training features --------> {}\".format(X.shape[1]))\n",
    "print(\"Shape of the target value ----------> {}\".format(y.shape))"
   ],
   "outputs": [
    {
     "output_type": "stream",
     "name": "stdout",
     "text": [
      "====================================================================================================\n",
      "Number of training data samples-----> 50000\n",
      "Number of training features --------> 8\n",
      "Shape of the target value ----------> (50000, 1)\n"
     ]
    }
   ],
   "metadata": {}
  },
  {
   "cell_type": "code",
   "execution_count": 43,
   "source": [
    "# display the data.\n",
    "data = pd.DataFrame(X)\n",
    "data.head()"
   ],
   "outputs": [
    {
     "output_type": "execute_result",
     "data": {
      "text/plain": [
       "          0         1         2         3         4         5         6  \\\n",
       "0  0.198170 -0.638264  0.534822  2.074254 -0.333213  1.130183  0.107092   \n",
       "1  0.597350  0.532155  1.562352  0.632139  0.649819  0.279323 -0.420157   \n",
       "2  0.947445 -1.638198 -1.158149 -0.009288 -0.920213 -1.359685 -0.982554   \n",
       "3  0.468903  0.039257  0.034112 -0.951446  1.936101  0.322001 -0.062539   \n",
       "4  2.668267 -2.031942  1.932307 -1.422898  0.994898  0.071226 -0.308844   \n",
       "\n",
       "          7  \n",
       "0 -0.136531  \n",
       "1 -0.850879  \n",
       "2  0.127626  \n",
       "3  0.061856  \n",
       "4 -1.181020  "
      ],
      "text/html": [
       "<div>\n",
       "<style scoped>\n",
       "    .dataframe tbody tr th:only-of-type {\n",
       "        vertical-align: middle;\n",
       "    }\n",
       "\n",
       "    .dataframe tbody tr th {\n",
       "        vertical-align: top;\n",
       "    }\n",
       "\n",
       "    .dataframe thead th {\n",
       "        text-align: right;\n",
       "    }\n",
       "</style>\n",
       "<table border=\"1\" class=\"dataframe\">\n",
       "  <thead>\n",
       "    <tr style=\"text-align: right;\">\n",
       "      <th></th>\n",
       "      <th>0</th>\n",
       "      <th>1</th>\n",
       "      <th>2</th>\n",
       "      <th>3</th>\n",
       "      <th>4</th>\n",
       "      <th>5</th>\n",
       "      <th>6</th>\n",
       "      <th>7</th>\n",
       "    </tr>\n",
       "  </thead>\n",
       "  <tbody>\n",
       "    <tr>\n",
       "      <th>0</th>\n",
       "      <td>0.198170</td>\n",
       "      <td>-0.638264</td>\n",
       "      <td>0.534822</td>\n",
       "      <td>2.074254</td>\n",
       "      <td>-0.333213</td>\n",
       "      <td>1.130183</td>\n",
       "      <td>0.107092</td>\n",
       "      <td>-0.136531</td>\n",
       "    </tr>\n",
       "    <tr>\n",
       "      <th>1</th>\n",
       "      <td>0.597350</td>\n",
       "      <td>0.532155</td>\n",
       "      <td>1.562352</td>\n",
       "      <td>0.632139</td>\n",
       "      <td>0.649819</td>\n",
       "      <td>0.279323</td>\n",
       "      <td>-0.420157</td>\n",
       "      <td>-0.850879</td>\n",
       "    </tr>\n",
       "    <tr>\n",
       "      <th>2</th>\n",
       "      <td>0.947445</td>\n",
       "      <td>-1.638198</td>\n",
       "      <td>-1.158149</td>\n",
       "      <td>-0.009288</td>\n",
       "      <td>-0.920213</td>\n",
       "      <td>-1.359685</td>\n",
       "      <td>-0.982554</td>\n",
       "      <td>0.127626</td>\n",
       "    </tr>\n",
       "    <tr>\n",
       "      <th>3</th>\n",
       "      <td>0.468903</td>\n",
       "      <td>0.039257</td>\n",
       "      <td>0.034112</td>\n",
       "      <td>-0.951446</td>\n",
       "      <td>1.936101</td>\n",
       "      <td>0.322001</td>\n",
       "      <td>-0.062539</td>\n",
       "      <td>0.061856</td>\n",
       "    </tr>\n",
       "    <tr>\n",
       "      <th>4</th>\n",
       "      <td>2.668267</td>\n",
       "      <td>-2.031942</td>\n",
       "      <td>1.932307</td>\n",
       "      <td>-1.422898</td>\n",
       "      <td>0.994898</td>\n",
       "      <td>0.071226</td>\n",
       "      <td>-0.308844</td>\n",
       "      <td>-1.181020</td>\n",
       "    </tr>\n",
       "  </tbody>\n",
       "</table>\n",
       "</div>"
      ]
     },
     "metadata": {},
     "execution_count": 43
    }
   ],
   "metadata": {}
  },
  {
   "cell_type": "code",
   "execution_count": 44,
   "source": [
    "# display the data.\n",
    "data_y = pd.DataFrame(y)\n",
    "data_y.head()"
   ],
   "outputs": [
    {
     "output_type": "execute_result",
     "data": {
      "text/plain": [
       "            0\n",
       "0   85.196601\n",
       "1  228.146941\n",
       "2 -370.576448\n",
       "3  224.106453\n",
       "4   92.798002"
      ],
      "text/html": [
       "<div>\n",
       "<style scoped>\n",
       "    .dataframe tbody tr th:only-of-type {\n",
       "        vertical-align: middle;\n",
       "    }\n",
       "\n",
       "    .dataframe tbody tr th {\n",
       "        vertical-align: top;\n",
       "    }\n",
       "\n",
       "    .dataframe thead th {\n",
       "        text-align: right;\n",
       "    }\n",
       "</style>\n",
       "<table border=\"1\" class=\"dataframe\">\n",
       "  <thead>\n",
       "    <tr style=\"text-align: right;\">\n",
       "      <th></th>\n",
       "      <th>0</th>\n",
       "    </tr>\n",
       "  </thead>\n",
       "  <tbody>\n",
       "    <tr>\n",
       "      <th>0</th>\n",
       "      <td>85.196601</td>\n",
       "    </tr>\n",
       "    <tr>\n",
       "      <th>1</th>\n",
       "      <td>228.146941</td>\n",
       "    </tr>\n",
       "    <tr>\n",
       "      <th>2</th>\n",
       "      <td>-370.576448</td>\n",
       "    </tr>\n",
       "    <tr>\n",
       "      <th>3</th>\n",
       "      <td>224.106453</td>\n",
       "    </tr>\n",
       "    <tr>\n",
       "      <th>4</th>\n",
       "      <td>92.798002</td>\n",
       "    </tr>\n",
       "  </tbody>\n",
       "</table>\n",
       "</div>"
      ]
     },
     "metadata": {},
     "execution_count": 44
    }
   ],
   "metadata": {}
  },
  {
   "cell_type": "code",
   "execution_count": 45,
   "source": [
    "#define the parameters\n",
    "param = {\n",
    "    \"learning_rate\" : 0.1,\n",
    "    \"iteration\" : 10000\n",
    "}\n",
    "print(\"=\"*100)\n",
    "linear_reg = LinearRegression(**param)\n",
    "\n",
    "# Train the model.\n",
    "linear_reg.train(X, y) \n",
    "\n",
    "# Predict the values.\n",
    "y_pred = linear_reg.predict(X)\n",
    "\n",
    "#Root mean square error.\n",
    "score = r2_score(y, y_pred)\n",
    "print(\"The r2_score of the trained model\", score)"
   ],
   "outputs": [
    {
     "output_type": "stream",
     "name": "stdout",
     "text": [
      "====================================================================================================\n",
      "The Cost function for the iteration 1000----->1.0883901065336917e-26 :)\n",
      "The Cost function for the iteration 2000----->1.0883812208044554e-26 :)\n",
      "The Cost function for the iteration 3000----->1.0883901065336917e-26 :)\n",
      "The Cost function for the iteration 4000----->1.0883901065336917e-26 :)\n",
      "The Cost function for the iteration 5000----->1.0883901065336917e-26 :)\n",
      "The Cost function for the iteration 6000----->1.0883812208044554e-26 :)\n",
      "The Cost function for the iteration 7000----->1.0883901065336917e-26 :)\n",
      "The Cost function for the iteration 8000----->1.0883901065336917e-26 :)\n",
      "The Cost function for the iteration 9000----->1.0883901065336917e-26 :)\n",
      "The Cost function for the iteration 10000----->1.0883812208044554e-26 :)\n",
      "The r2_score of the trained model 1.0\n"
     ]
    }
   ],
   "metadata": {}
  },
  {
   "cell_type": "markdown",
   "source": [
    "# Lienar Regression using Skicit-Learn"
   ],
   "metadata": {}
  },
  {
   "cell_type": "code",
   "execution_count": 46,
   "source": [
    "from sklearn.linear_model import LinearRegression as LinearRegression_sklearn\n",
    "from sklearn.metrics import r2_score"
   ],
   "outputs": [],
   "metadata": {}
  },
  {
   "cell_type": "code",
   "execution_count": 47,
   "source": [
    "# data is already defined, going to use the same data for comparision.\n",
    "print(\"=\"*100)\n",
    "print(\"Number of training data samples-----> {}\".format(X.shape[0]))\n",
    "print(\"Number of training features --------> {}\".format(X.shape[1]))"
   ],
   "outputs": [
    {
     "output_type": "stream",
     "name": "stdout",
     "text": [
      "====================================================================================================\n",
      "Number of training data samples-----> 50000\n",
      "Number of training features --------> 8\n"
     ]
    }
   ],
   "metadata": {}
  },
  {
   "cell_type": "code",
   "execution_count": 48,
   "source": [
    "linear_reg_sklearn = LinearRegression_sklearn()\n",
    "linear_reg_sklearn.fit(X, y)\n",
    "\n",
    "# predict the value\n",
    "y_pred_sklearn = linear_reg_sklearn.predict(X)\n",
    "score = r2_score(y, y_pred_sklearn)\n",
    "print(\"=\"*100)\n",
    "print(\"R2 score of the model is {}\".format(score))"
   ],
   "outputs": [
    {
     "output_type": "stream",
     "name": "stdout",
     "text": [
      "====================================================================================================\n",
      "R2 score of the model is 1.0\n"
     ]
    }
   ],
   "metadata": {}
  },
  {
   "cell_type": "markdown",
   "source": [
    "# Conclution"
   ],
   "metadata": {}
  },
  {
   "cell_type": "code",
   "execution_count": 49,
   "source": [
    "# Our model works well as the scikit learn on speed and accuracy."
   ],
   "outputs": [],
   "metadata": {}
  },
  {
   "cell_type": "code",
   "execution_count": null,
   "source": [],
   "outputs": [],
   "metadata": {}
  }
 ],
 "metadata": {
  "orig_nbformat": 4,
  "language_info": {
   "name": "python",
   "version": "3.8.10",
   "mimetype": "text/x-python",
   "codemirror_mode": {
    "name": "ipython",
    "version": 3
   },
   "pygments_lexer": "ipython3",
   "nbconvert_exporter": "python",
   "file_extension": ".py"
  },
  "kernelspec": {
   "name": "python3",
   "display_name": "Python 3.8.10 64-bit"
  },
  "interpreter": {
   "hash": "31f2aee4e71d21fbe5cf8b01ff0e069b9275f58929596ceb00d14d90e3e16cd6"
  }
 },
 "nbformat": 4,
 "nbformat_minor": 2
}